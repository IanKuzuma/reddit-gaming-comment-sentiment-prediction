{
 "cells": [
  {
   "cell_type": "markdown",
   "id": "f78616a6",
   "metadata": {},
   "source": [
    "# 1. Importing Libraries"
   ]
  },
  {
   "cell_type": "code",
   "execution_count": 19,
   "id": "ae3c73c5",
   "metadata": {},
   "outputs": [],
   "source": [
    "# Import libraries\n",
    "\n",
    "import joblib\n",
    "import numpy as np\n",
    "from tensorflow.keras.models import load_model\n",
    "from transformers import BertTokenizer, TFBertModel"
   ]
  },
  {
   "cell_type": "markdown",
   "id": "926b1cca",
   "metadata": {},
   "source": [
    "# 2. Model Loading"
   ]
  },
  {
   "cell_type": "code",
   "execution_count": 20,
   "id": "57974015",
   "metadata": {},
   "outputs": [],
   "source": [
    "# Load the label encoder file\n",
    "label_encoder = joblib.load(\"label_encoder.pkl\")\n",
    "\n",
    "# Load the BiLSTM BERT model file\n",
    "model = load_model(\"model_bert\", custom_objects={\"TFBertModel\": TFBertModel})"
   ]
  },
  {
   "cell_type": "markdown",
   "id": "ffada0bc",
   "metadata": {},
   "source": [
    "# 3. Model Inference"
   ]
  },
  {
   "cell_type": "markdown",
   "id": "e744f3d3",
   "metadata": {},
   "source": [
    "Inferenced user comment manually obtained from the top comment of current hottest r/gaming subreddit post [here](https://www.reddit.com/r/gaming/comments/1mbz5mi/comment/n5pzgly/?utm_source=share&utm_medium=web3x&utm_name=web3xcss&utm_term=1&utm_content=share_button)"
   ]
  },
  {
   "cell_type": "code",
   "execution_count": 21,
   "id": "452a65a6",
   "metadata": {},
   "outputs": [],
   "source": [
    "# Create the inference user input data\n",
    "user_comment = ['''The absolutely best arcade racer game to ever do it. \n",
    "                The driving was fun, the boost, the takedowns, \n",
    "                the soundtrack to set the tone of the game. Just chefs kiss.\n",
    "''']"
   ]
  },
  {
   "cell_type": "markdown",
   "id": "3d4256d9",
   "metadata": {},
   "source": [
    "Pre-proccess the user comment using the same pre-processing used on the model training"
   ]
  },
  {
   "cell_type": "code",
   "execution_count": 22,
   "id": "411f93c8",
   "metadata": {},
   "outputs": [],
   "source": [
    "# Load the pre-trained BERT tokenizer\n",
    "tokenizer = BertTokenizer.from_pretrained('bert-base-uncased')\n",
    "\n",
    "# Encode the dataset using the same approach as our training\n",
    "user_comment_encoded = tokenizer(\n",
    "    user_comment,\n",
    "    padding='max_length',\n",
    "        truncation=True,\n",
    "        max_length=128,\n",
    "        return_tensors='tf'\n",
    ")"
   ]
  },
  {
   "cell_type": "markdown",
   "id": "d41cabdd",
   "metadata": {},
   "source": [
    "Predict and then show the predicted label, not just as its encoded class"
   ]
  },
  {
   "cell_type": "code",
   "execution_count": 23,
   "id": "bb9e6ff4",
   "metadata": {},
   "outputs": [
    {
     "name": "stdout",
     "output_type": "stream",
     "text": [
      "1/1 [==============================] - 5s 5s/step\n",
      "Predicted class: 2\n",
      "Predicted label: positive\n"
     ]
    }
   ],
   "source": [
    "# Predict the user comment using our model\n",
    "inputs = {\n",
    "    \"input_ids\": user_comment_encoded[\"input_ids\"],\n",
    "    \"attention_mask\": user_comment_encoded[\"attention_mask\"]\n",
    "}\n",
    "\n",
    "preds = model.predict(inputs)\n",
    "predicted_class = np.argmax(preds, axis=1)[0]\n",
    "\n",
    "print(f\"Predicted class: {predicted_class}\")\n",
    "print(f\"Predicted label: {label_encoder.inverse_transform([predicted_class])[0]}\")"
   ]
  }
 ],
 "metadata": {
  "kernelspec": {
   "display_name": "tf",
   "language": "python",
   "name": "python3"
  },
  "language_info": {
   "codemirror_mode": {
    "name": "ipython",
    "version": 3
   },
   "file_extension": ".py",
   "mimetype": "text/x-python",
   "name": "python",
   "nbconvert_exporter": "python",
   "pygments_lexer": "ipython3",
   "version": "3.8.20"
  }
 },
 "nbformat": 4,
 "nbformat_minor": 5
}
